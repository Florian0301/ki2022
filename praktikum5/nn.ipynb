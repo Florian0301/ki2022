{
 "cells": [
  {
   "cell_type": "code",
   "execution_count": 2,
   "metadata": {},
   "outputs": [],
   "source": [
    "import tensorflow as tf\n",
    "import numpy as np\n",
    "mnist = tf.keras.datasets.mnist\n",
    "\n",
    "def test_model(model: tf.keras.models.Sequential):\n",
    "    (x_train, y_train), (x_test, y_test) = mnist.load_data()\n",
    "    x_train, x_test = x_train / 255.0, x_test / 255.0\n",
    "    x = np.concatenate((x_train, x_test))\n",
    "    y = np.concatenate((y_train, y_test))\n",
    "    splitted_x = np.array_split(x, 4)\n",
    "    splitted_y = np.array_split(y, 4)\n",
    "    x_train = np.concatenate(\n",
    "        (np.concatenate((splitted_x[0], splitted_x[1])), splitted_x[2]))\n",
    "    y_train = np.concatenate(\n",
    "        (np.concatenate((splitted_y[0], splitted_y[1])), splitted_y[2]))\n",
    "    x_test = splitted_x[3]\n",
    "    y_test = splitted_y[3]\n",
    "    loss_fn = tf.keras.losses.SparseCategoricalCrossentropy(from_logits=True)\n",
    "    model.compile(\n",
    "        optimizer='adam',\n",
    "        loss=loss_fn,\n",
    "        metrics=['accuracy']\n",
    "    )\n",
    "    model.fit(x_train, y_train, epochs=5)\n",
    "    model.evaluate(x_test,  y_test, verbose=2)\n",
    "    probability_model = tf.keras.Sequential([\n",
    "        model,\n",
    "        tf.keras.layers.Softmax()\n",
    "    ])\n",
    "    print(f\"{y_test[:1] = }\")\n",
    "    print(f\"{probability_model(x_test[:1]) = }\")"
   ]
  },
  {
   "cell_type": "markdown",
   "metadata": {},
   "source": [
    "## Ohne Hidden Layer"
   ]
  },
  {
   "cell_type": "code",
   "execution_count": null,
   "metadata": {},
   "outputs": [
    {
     "name": "stdout",
     "output_type": "stream",
     "text": [
      "Epoch 1/5\n",
      "1641/1641 [==============================] - 5s 3ms/step - loss: 0.5385 - accuracy: 0.8544\n",
      "Epoch 2/5\n",
      "1641/1641 [==============================] - 6s 3ms/step - loss: 0.3516 - accuracy: 0.8984\n",
      "Epoch 3/5\n",
      "1641/1641 [==============================] - 5s 3ms/step - loss: 0.3324 - accuracy: 0.9048\n",
      "Epoch 4/5\n",
      "1641/1641 [==============================] - 4s 3ms/step - loss: 0.3244 - accuracy: 0.9077\n",
      "Epoch 5/5\n",
      "1641/1641 [==============================] - 4s 2ms/step - loss: 0.3191 - accuracy: 0.9091\n",
      "547/547 - 1s - loss: 0.2624 - accuracy: 0.9271 - 664ms/epoch - 1ms/step\n",
      "y_test[:1] = array([9], dtype=uint8)\n",
      "probability_model(x_test[:1]) = <tf.Tensor: shape=(1, 10), dtype=float32, numpy=\n",
      "array([[2.9867397e-10, 1.7557418e-06, 1.3932994e-05, 3.7362322e-04,\n",
      "        1.0486235e-02, 2.2105378e-05, 1.4454747e-07, 6.8720680e-04,\n",
      "        2.0854296e-03, 9.8632962e-01]], dtype=float32)>\n"
     ]
    }
   ],
   "source": [
    "test_model(\n",
    "    tf.keras.models.Sequential([\n",
    "        tf.keras.layers.Flatten(input_shape=(28, 28)),\n",
    "        tf.keras.layers.Dropout(0.2),\n",
    "        tf.keras.layers.Dense(10)\n",
    "    ])\n",
    ")"
   ]
  },
  {
   "cell_type": "markdown",
   "metadata": {},
   "source": [
    "## 2 Hidden Layer, eines mit mindestens 16 Neuronen"
   ]
  },
  {
   "cell_type": "code",
   "execution_count": 5,
   "metadata": {},
   "outputs": [
    {
     "name": "stdout",
     "output_type": "stream",
     "text": [
      "Epoch 1/5\n",
      "1641/1641 [==============================] - 6s 3ms/step - loss: 0.2984 - accuracy: 0.9129\n",
      "Epoch 2/5\n",
      "1641/1641 [==============================] - 5s 3ms/step - loss: 0.1303 - accuracy: 0.9613\n",
      "Epoch 3/5\n",
      "1641/1641 [==============================] - 5s 3ms/step - loss: 0.0892 - accuracy: 0.9726\n",
      "Epoch 4/5\n",
      "1641/1641 [==============================] - 5s 3ms/step - loss: 0.0686 - accuracy: 0.9792\n",
      "Epoch 5/5\n",
      "1641/1641 [==============================] - 5s 3ms/step - loss: 0.0533 - accuracy: 0.9829\n",
      "547/547 - 1s - loss: 0.0761 - accuracy: 0.9787 - 855ms/epoch - 2ms/step\n",
      "y_test[:1] = array([9], dtype=uint8)\n",
      "probability_model(x_test[:1]) = <tf.Tensor: shape=(1, 10), dtype=float32, numpy=\n",
      "array([[2.2439860e-08, 1.0607018e-08, 3.7767761e-11, 1.4254492e-06,\n",
      "        6.6828710e-05, 2.6934458e-08, 1.2971172e-09, 2.6582597e-07,\n",
      "        3.2532023e-07, 9.9993110e-01]], dtype=float32)>\n"
     ]
    }
   ],
   "source": [
    "test_model(\n",
    "    tf.keras.models.Sequential([\n",
    "        tf.keras.layers.Flatten(input_shape=(28, 28)),\n",
    "        tf.keras.layers.Dense(200, activation='relu'),\n",
    "        tf.keras.layers.Dense(20),\n",
    "        tf.keras.layers.Dropout(0.2),\n",
    "        tf.keras.layers.Dense(10)\n",
    "    ])\n",
    ")"
   ]
  },
  {
   "cell_type": "markdown",
   "metadata": {},
   "source": [
    "## NN2 mit hard_sigmoid als Aktivierungsfunktion"
   ]
  },
  {
   "cell_type": "code",
   "execution_count": 6,
   "metadata": {},
   "outputs": [
    {
     "name": "stdout",
     "output_type": "stream",
     "text": [
      "Epoch 1/5\n",
      "1641/1641 [==============================] - 6s 3ms/step - loss: 0.4623 - accuracy: 0.8643\n",
      "Epoch 2/5\n",
      "1641/1641 [==============================] - 6s 4ms/step - loss: 0.2319 - accuracy: 0.9327\n",
      "Epoch 3/5\n",
      "1641/1641 [==============================] - 6s 4ms/step - loss: 0.1579 - accuracy: 0.9530\n",
      "Epoch 4/5\n",
      "1641/1641 [==============================] - 6s 4ms/step - loss: 0.1152 - accuracy: 0.9653\n",
      "Epoch 5/5\n",
      "1641/1641 [==============================] - 6s 4ms/step - loss: 0.0891 - accuracy: 0.9734\n",
      "547/547 - 1s - loss: 0.0852 - accuracy: 0.9745 - 1s/epoch - 2ms/step\n",
      "y_test[:1] = array([9], dtype=uint8)\n",
      "probability_model(x_test[:1]) = <tf.Tensor: shape=(1, 10), dtype=float32, numpy=\n",
      "array([[3.74268893e-07, 9.01700389e-07, 2.79416188e-08, 1.05859115e-04,\n",
      "        1.80422925e-04, 5.93603227e-06, 1.85940774e-08, 4.76712776e-05,\n",
      "        4.40474105e-05, 9.99614716e-01]], dtype=float32)>\n"
     ]
    }
   ],
   "source": [
    "test_model(\n",
    "    tf.keras.models.Sequential([\n",
    "        tf.keras.layers.Flatten(input_shape=(28, 28)),\n",
    "        tf.keras.layers.Dense(200, activation='hard_sigmoid'),\n",
    "        tf.keras.layers.Dense(20),\n",
    "        tf.keras.layers.Dropout(0.2),\n",
    "        tf.keras.layers.Dense(10)\n",
    "    ])\n",
    ")"
   ]
  },
  {
   "cell_type": "markdown",
   "metadata": {},
   "source": [
    "## NN2 mit linear als Aktivierungsfunktion"
   ]
  },
  {
   "cell_type": "code",
   "execution_count": 7,
   "metadata": {},
   "outputs": [
    {
     "name": "stdout",
     "output_type": "stream",
     "text": [
      "Epoch 1/5\n",
      "1641/1641 [==============================] - 6s 3ms/step - loss: 0.4787 - accuracy: 0.8588\n",
      "Epoch 2/5\n",
      "1641/1641 [==============================] - 5s 3ms/step - loss: 0.3898 - accuracy: 0.8889\n",
      "Epoch 3/5\n",
      "1641/1641 [==============================] - 5s 3ms/step - loss: 0.3714 - accuracy: 0.8951\n",
      "Epoch 4/5\n",
      "1641/1641 [==============================] - 5s 3ms/step - loss: 0.3588 - accuracy: 0.8990\n",
      "Epoch 5/5\n",
      "1641/1641 [==============================] - 5s 3ms/step - loss: 0.3531 - accuracy: 0.9006\n",
      "547/547 - 1s - loss: 0.2861 - accuracy: 0.9152 - 1s/epoch - 2ms/step\n",
      "y_test[:1] = array([9], dtype=uint8)\n",
      "probability_model(x_test[:1]) = <tf.Tensor: shape=(1, 10), dtype=float32, numpy=\n",
      "array([[9.7149483e-11, 6.5002024e-07, 2.2907993e-07, 6.4493594e-05,\n",
      "        4.0349173e-03, 3.6621327e-07, 3.8920080e-09, 1.0599407e-03,\n",
      "        1.3806188e-04, 9.9470139e-01]], dtype=float32)>\n"
     ]
    }
   ],
   "source": [
    "test_model(\n",
    "    tf.keras.models.Sequential([\n",
    "        tf.keras.layers.Flatten(input_shape=(28, 28)),\n",
    "        tf.keras.layers.Dense(200, activation='linear'),\n",
    "        tf.keras.layers.Dense(20),\n",
    "        tf.keras.layers.Dropout(0.2),\n",
    "        tf.keras.layers.Dense(10)\n",
    "    ])\n",
    ")"
   ]
  },
  {
   "cell_type": "markdown",
   "metadata": {},
   "source": [
    "## 8 Hidden Layer, eines mit maximal 4 Neuronen"
   ]
  },
  {
   "cell_type": "code",
   "execution_count": 8,
   "metadata": {},
   "outputs": [
    {
     "name": "stdout",
     "output_type": "stream",
     "text": [
      "Epoch 1/5\n",
      "1641/1641 [==============================] - 6s 3ms/step - loss: 0.9260 - accuracy: 0.6777\n",
      "Epoch 2/5\n",
      "1641/1641 [==============================] - 4s 3ms/step - loss: 0.6826 - accuracy: 0.7782\n",
      "Epoch 3/5\n",
      "1641/1641 [==============================] - 4s 3ms/step - loss: 0.6255 - accuracy: 0.8042\n",
      "Epoch 4/5\n",
      "1641/1641 [==============================] - 4s 3ms/step - loss: 0.6001 - accuracy: 0.8144\n",
      "Epoch 5/5\n",
      "1641/1641 [==============================] - 5s 3ms/step - loss: 0.5793 - accuracy: 0.8288\n",
      "547/547 - 1s - loss: 0.3790 - accuracy: 0.9087 - 902ms/epoch - 2ms/step\n",
      "y_test[:1] = array([9], dtype=uint8)\n",
      "probability_model(x_test[:1]) = <tf.Tensor: shape=(1, 10), dtype=float32, numpy=\n",
      "array([[1.1661984e-04, 6.1540959e-07, 3.1813148e-03, 1.7870823e-04,\n",
      "        7.2118910e-03, 3.3884137e-07, 5.8275116e-08, 1.8940130e-02,\n",
      "        5.1891648e-06, 9.7036517e-01]], dtype=float32)>\n"
     ]
    }
   ],
   "source": [
    "test_model(\n",
    "    tf.keras.models.Sequential([\n",
    "        tf.keras.layers.Flatten(input_shape=(28, 28)),\n",
    "        tf.keras.layers.Dense(10, activation='relu'),\n",
    "        tf.keras.layers.Dense(10),\n",
    "        tf.keras.layers.Dense(10),\n",
    "        tf.keras.layers.Dense(10),\n",
    "        tf.keras.layers.Dense(10),\n",
    "        tf.keras.layers.Dense(10),\n",
    "        tf.keras.layers.Dense(10),\n",
    "        tf.keras.layers.Dense(4),\n",
    "        tf.keras.layers.Dropout(0.2),\n",
    "        tf.keras.layers.Dense(10)\n",
    "    ])\n",
    ")"
   ]
  },
  {
   "cell_type": "markdown",
   "metadata": {},
   "source": [
    "## Tutorial Model mit 0.2 Dropout"
   ]
  },
  {
   "cell_type": "code",
   "execution_count": 9,
   "metadata": {},
   "outputs": [
    {
     "name": "stdout",
     "output_type": "stream",
     "text": [
      "Epoch 1/5\n",
      "1641/1641 [==============================] - 5s 3ms/step - loss: 0.3103 - accuracy: 0.9094\n",
      "Epoch 2/5\n",
      "1641/1641 [==============================] - 4s 3ms/step - loss: 0.1536 - accuracy: 0.9547\n",
      "Epoch 3/5\n",
      "1641/1641 [==============================] - 5s 3ms/step - loss: 0.1161 - accuracy: 0.9643\n",
      "Epoch 4/5\n",
      "1641/1641 [==============================] - 5s 3ms/step - loss: 0.0961 - accuracy: 0.9709\n",
      "Epoch 5/5\n",
      "1641/1641 [==============================] - 5s 3ms/step - loss: 0.0799 - accuracy: 0.9759\n",
      "547/547 - 1s - loss: 0.0761 - accuracy: 0.9769 - 810ms/epoch - 1ms/step\n",
      "y_test[:1] = array([9], dtype=uint8)\n",
      "probability_model(x_test[:1]) = <tf.Tensor: shape=(1, 10), dtype=float32, numpy=\n",
      "array([[8.90081875e-09, 1.74918846e-09, 7.16342925e-07, 2.01208226e-04,\n",
      "        1.16938550e-03, 1.59325828e-06, 5.06483614e-12, 9.81576159e-05,\n",
      "        1.20157565e-04, 9.98408735e-01]], dtype=float32)>\n"
     ]
    }
   ],
   "source": [
    "test_model(\n",
    "    tf.keras.models.Sequential([\n",
    "        tf.keras.layers.Flatten(input_shape=(28, 28)),\n",
    "        tf.keras.layers.Dense(128, activation='relu'),\n",
    "        tf.keras.layers.Dropout(0.2),\n",
    "        tf.keras.layers.Dense(10)\n",
    "    ])\n",
    ")"
   ]
  },
  {
   "cell_type": "markdown",
   "metadata": {},
   "source": [
    "## Tutorial Model mit 0.8 Dropout"
   ]
  },
  {
   "cell_type": "code",
   "execution_count": 10,
   "metadata": {},
   "outputs": [
    {
     "name": "stdout",
     "output_type": "stream",
     "text": [
      "Epoch 1/5\n",
      "1641/1641 [==============================] - 5s 3ms/step - loss: 0.7567 - accuracy: 0.7566\n",
      "Epoch 2/5\n",
      "1641/1641 [==============================] - 4s 3ms/step - loss: 0.5179 - accuracy: 0.8359\n",
      "Epoch 3/5\n",
      "1641/1641 [==============================] - 4s 2ms/step - loss: 0.4689 - accuracy: 0.8529\n",
      "Epoch 4/5\n",
      "1641/1641 [==============================] - 4s 3ms/step - loss: 0.4435 - accuracy: 0.8603\n",
      "Epoch 5/5\n",
      "1641/1641 [==============================] - 5s 3ms/step - loss: 0.4210 - accuracy: 0.8692\n",
      "547/547 - 1s - loss: 0.1616 - accuracy: 0.9542 - 836ms/epoch - 2ms/step\n",
      "y_test[:1] = array([9], dtype=uint8)\n",
      "probability_model(x_test[:1]) = <tf.Tensor: shape=(1, 10), dtype=float32, numpy=\n",
      "array([[8.2539059e-13, 3.3390362e-09, 2.0017363e-07, 9.6484160e-05,\n",
      "        9.6421754e-03, 1.3806846e-06, 4.1119690e-12, 5.9175084e-04,\n",
      "        3.4605198e-06, 9.8966461e-01]], dtype=float32)>\n"
     ]
    }
   ],
   "source": [
    "test_model(\n",
    "    tf.keras.models.Sequential([\n",
    "        tf.keras.layers.Flatten(input_shape=(28, 28)),\n",
    "        tf.keras.layers.Dense(128, activation='relu'),\n",
    "        tf.keras.layers.Dropout(0.8),\n",
    "        tf.keras.layers.Dense(10)\n",
    "    ])\n",
    ")"
   ]
  }
 ],
 "metadata": {
  "kernelspec": {
   "display_name": "Python 3.9.5 ('venv': venv)",
   "language": "python",
   "name": "python3"
  },
  "language_info": {
   "codemirror_mode": {
    "name": "ipython",
    "version": 3
   },
   "file_extension": ".py",
   "mimetype": "text/x-python",
   "name": "python",
   "nbconvert_exporter": "python",
   "pygments_lexer": "ipython3",
   "version": "3.9.5"
  },
  "orig_nbformat": 4,
  "vscode": {
   "interpreter": {
    "hash": "f22bddd0818df428ce38a0124d446bf1563a27b36020171a2d01a06674fccab9"
   }
  }
 },
 "nbformat": 4,
 "nbformat_minor": 2
}
