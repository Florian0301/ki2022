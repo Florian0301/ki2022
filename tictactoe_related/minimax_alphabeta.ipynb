{
 "cells": [
  {
   "cell_type": "code",
   "execution_count": 1,
   "metadata": {},
   "outputs": [],
   "source": [
    "from typing import Dict, List\n",
    "from aufgabe3 import TicTacToe as ttt_base\n",
    "from players import AlphaBetaNPC, HumanPlayer, MinimaxNPC, RandomNPC, PlayerInterface\n",
    "import matplotlib.pyplot as plt\n",
    "from datetime import datetime\n",
    "\n",
    "class TicTacToe(ttt_base):\n",
    "    def __init__(self, players: List[str]) -> None:\n",
    "        super().__init__()\n",
    "        self.sym_to_type: Dict[str, PlayerInterface] = {}\n",
    "        self.moves = []\n",
    "        for i, sym in enumerate(self.player_symbols):\n",
    "            choice = players[i]\n",
    "            if(choice == \"h\"):\n",
    "                self.sym_to_type[sym] = HumanPlayer(sym, self.board)\n",
    "            elif(choice == \"z\"):\n",
    "                self.sym_to_type[sym] = RandomNPC(sym, self.board)\n",
    "            elif(choice == \"m\"):\n",
    "                self.sym_to_type[sym] = MinimaxNPC(sym, self.board)\n",
    "            elif(choice == \"a\"):\n",
    "                self.sym_to_type[sym] = AlphaBetaNPC(sym, self.board)\n",
    "            else:\n",
    "                print(\"Try again you silly goose!\")\n",
    "\n",
    "    def get_and_set_move(self, player_symbol: str) -> None:\n",
    "        move = self.sym_to_type.get(player_symbol).get_move()\n",
    "        self.board[move] = player_symbol\n",
    "        self.moves.append({player_symbol: move})\n",
    "\n",
    "    def start(self) -> str:\n",
    "        i = 0\n",
    "        while True:\n",
    "            curr_symbol = self.player_symbols[i]\n",
    "            self.get_and_set_move(curr_symbol)\n",
    "            i = (i + 1) % 2\n",
    "            if self.is_winner(curr_symbol):\n",
    "                return curr_symbol\n",
    "            if self.is_board_full():\n",
    "                return \"Tie\"\n",
    "\n",
    "    def reset(self) -> None:\n",
    "        for key in self.board.keys():\n",
    "            self.board[key] = \" \"\n",
    "\n",
    "def simulate_game(ttt, anz_games):\n",
    "    res = {\"X\":0, \"O\":0, \"Tie\":0}\n",
    "    for i in range(anz_games):\n",
    "        res[ttt.start()]+=1\n",
    "        ttt.reset()\n",
    "    return res\n",
    "\n",
    "def visualize_res(res):\n",
    "    plt.bar(res.keys(), res.values(), color=\"limegreen\")\n",
    "    plt.show()\n",
    "\n",
    "def test_with_players(players):\n",
    "    ttt = TicTacToe(players)\n",
    "    anz_games = 100\n",
    "    zeit = datetime.now()\n",
    "    result = simulate_game(ttt, anz_games)\n",
    "    zeit = datetime.now() - zeit\n",
    "    \n",
    "    print(f\"{anz_games = }\")\n",
    "    print(f\"Time: {zeit.seconds}.{zeit.microseconds} Sekunden\")\n",
    "    zeit = zeit/anz_games\n",
    "    print(f\"Average Time per Round: {zeit.seconds}.{zeit.microseconds} Sekunden\")\n",
    "    print(f\"{result = }\")\n",
    "    visualize_res(result)"
   ]
  },
  {
   "cell_type": "markdown",
   "metadata": {},
   "source": [
    "## AlphaBeta vs Random"
   ]
  },
  {
   "cell_type": "code",
   "execution_count": 38,
   "metadata": {},
   "outputs": [
    {
     "name": "stdout",
     "output_type": "stream",
     "text": [
      "anz_games = 100\n",
      "Time: 30.142392 Sekunden\n",
      "Average Time per Round: 0.301424 Sekunden\n",
      "result = {'X': 99, 'O': 0, 'Tie': 1}\n"
     ]
    },
    {
     "data": {
      "image/png": "[encoded data removed]",
      "text/plain": [
       "<Figure size 432x288 with 1 Axes>"
      ]
     },
     "metadata": {
      "needs_background": "light"
     },
     "output_type": "display_data"
    }
   ],
   "source": [
    "test_with_players([\"a\", \"z\"])"
   ]
  },
  {
   "cell_type": "markdown",
   "metadata": {},
   "source": [
    "## Random vs AlphaBeta"
   ]
  },
  {
   "cell_type": "code",
   "execution_count": 37,
   "metadata": {},
   "outputs": [
    {
     "name": "stdout",
     "output_type": "stream",
     "text": [
      "anz_games = 100\n",
      "Time: 6.621460 Sekunden\n",
      "Average Time per Round: 0.66215 Sekunden\n",
      "result = {'X': 0, 'O': 80, 'Tie': 20}\n"
     ]
    },
    {
     "data": {
      "image/png": "[encoded data removed]",
      "text/plain": [
       "<Figure size 432x288 with 1 Axes>"
      ]
     },
     "metadata": {
      "needs_background": "light"
     },
     "output_type": "display_data"
    }
   ],
   "source": [
    "test_with_players([\"z\", \"a\"])"
   ]
  },
  {
   "cell_type": "markdown",
   "metadata": {},
   "source": [
    "## Random vs MiniMax"
   ]
  },
  {
   "cell_type": "code",
   "execution_count": 39,
   "metadata": {},
   "outputs": [
    {
     "name": "stdout",
     "output_type": "stream",
     "text": [
      "anz_games = 100\n",
      "Time: 103.988131 Sekunden\n",
      "Average Time per Round: 1.39881 Sekunden\n",
      "result = {'X': 0, 'O': 79, 'Tie': 21}\n"
     ]
    },
    {
     "data": {
      "image/png": "[encoded data removed]",
      "text/plain": [
       "<Figure size 432x288 with 1 Axes>"
      ]
     },
     "metadata": {
      "needs_background": "light"
     },
     "output_type": "display_data"
    }
   ],
   "source": [
    "test_with_players([\"z\", \"m\"])"
   ]
  },
  {
   "cell_type": "markdown",
   "metadata": {},
   "source": [
    "## MiniMax vs Random"
   ]
  },
  {
   "cell_type": "code",
   "execution_count": 41,
   "metadata": {},
   "outputs": [
    {
     "name": "stdout",
     "output_type": "stream",
     "text": [
      "anz_games = 100\n",
      "Time: 859.572840 Sekunden\n",
      "Average Time per Round: 8.595728 Sekunden\n",
      "result = {'X': 99, 'O': 0, 'Tie': 1}\n"
     ]
    },
    {
     "data": {
      "image/png": "[encoded data removed]",
      "text/plain": [
       "<Figure size 432x288 with 1 Axes>"
      ]
     },
     "metadata": {
      "needs_background": "light"
     },
     "output_type": "display_data"
    }
   ],
   "source": [
    "test_with_players([\"m\", \"z\"])"
   ]
  },
  {
   "cell_type": "markdown",
   "metadata": {},
   "source": [
    "## Gleiches Ergebnis?"
   ]
  },
  {
   "cell_type": "code",
   "execution_count": 2,
   "metadata": {},
   "outputs": [
    {
     "name": "stdout",
     "output_type": "stream",
     "text": [
      "[{'X': '1'}, {'O': '5'}, {'X': '2'}, {'O': '3'}, {'X': '7'}, {'O': '4'}, {'X': '6'}, {'O': '8'}, {'X': '9'}]\n",
      "[{'X': '1'}, {'O': '5'}, {'X': '2'}, {'O': '3'}, {'X': '7'}, {'O': '4'}, {'X': '6'}, {'O': '8'}, {'X': '9'}]\n"
     ]
    }
   ],
   "source": [
    "ttt = TicTacToe([\"a\",\"a\"])\n",
    "ttt.start()\n",
    "print(ttt.moves)\n",
    "ttt = TicTacToe([\"m\",\"m\"])\n",
    "ttt.start()\n",
    "print(ttt.moves)"
   ]
  }
 ],
 "metadata": {
  "interpreter": {
   "hash": "f22bddd0818df428ce38a0124d446bf1563a27b36020171a2d01a06674fccab9"
  },
  "kernelspec": {
   "display_name": "Python 3.9.5 ('venv': venv)",
   "language": "python",
   "name": "python3"
  },
  "language_info": {
   "codemirror_mode": {
    "name": "ipython",
    "version": 3
   },
   "file_extension": ".py",
   "mimetype": "text/x-python",
   "name": "python",
   "nbconvert_exporter": "python",
   "pygments_lexer": "ipython3",
   "version": "3.8.5"
  },
  "orig_nbformat": 4
 },
 "nbformat": 4,
 "nbformat_minor": 2
}
